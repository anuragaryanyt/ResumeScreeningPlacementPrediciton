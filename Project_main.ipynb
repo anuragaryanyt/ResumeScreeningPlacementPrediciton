{
  "nbformat": 4,
  "nbformat_minor": 0,
  "metadata": {
    "colab": {
      "provenance": [],
      "toc_visible": true,
      "include_colab_link": true
    },
    "kernelspec": {
      "name": "python3",
      "display_name": "Python 3"
    },
    "language_info": {
      "name": "python"
    }
  },
  "cells": [
    {
      "cell_type": "markdown",
      "metadata": {
        "id": "view-in-github",
        "colab_type": "text"
      },
      "source": [
        "<a href=\"https://colab.research.google.com/github/anuragaryanyt/project7th/blob/main/Project_main.ipynb\" target=\"_parent\"><img src=\"https://colab.research.google.com/assets/colab-badge.svg\" alt=\"Open In Colab\"/></a>"
      ]
    },
    {
      "cell_type": "markdown",
      "source": [
        "**Resume Screening and Placement Prediction Model**\n"
      ],
      "metadata": {
        "id": "wWbeMVG5dXpw"
      }
    },
    {
      "cell_type": "code",
      "source": [],
      "metadata": {
        "id": "B0qir_WJdtgC"
      },
      "execution_count": null,
      "outputs": []
    }
  ]
}